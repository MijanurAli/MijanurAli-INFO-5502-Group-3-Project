{
 "cells": [
  {
   "cell_type": "code",
   "execution_count": 1,
   "id": "083b268f",
   "metadata": {},
   "outputs": [],
   "source": [
    "# Importing all necessary libraries to create prediction model\n",
    "import numpy as np\n",
    "import pandas as pd\n",
    "import seaborn as sns\n",
    "import matplotlib.pyplot as plt\n",
    "%matplotlib inline"
   ]
  },
  {
   "cell_type": "code",
   "execution_count": 2,
   "id": "21443b2e",
   "metadata": {},
   "outputs": [
    {
     "name": "stdout",
     "output_type": "stream",
     "text": [
      "                STATION                          NAME  SNOW  SNWD  TAVG\n",
      "DATE                                                                   \n",
      "2002-01-01  USW00003927  DAL FTW WSCMO AIRPORT, TX US   0.0   NaN  37.0\n",
      "2002-01-02  USW00003927  DAL FTW WSCMO AIRPORT, TX US   0.0   NaN  28.0\n",
      "2002-01-03  USW00003927  DAL FTW WSCMO AIRPORT, TX US   0.0   NaN  27.0\n",
      "2002-01-04  USW00003927  DAL FTW WSCMO AIRPORT, TX US   0.0   NaN  38.0\n",
      "2002-01-05  USW00003927  DAL FTW WSCMO AIRPORT, TX US   0.0   NaN  43.0\n"
     ]
    }
   ],
   "source": [
    "# Loading csv file with DFW Airport snowfall data and setting DATE as index\n",
    "dfw_data = '/Users/ali/Downloads/snowfall-dfw-airport.csv'\n",
    "snow = pd.read_csv(dfw_data, index_col=\"DATE\")\n",
    "\n",
    "# Converting DATE index to datetime data type\n",
    "snow.index = pd.to_datetime(snow.index)\n",
    "print(snow.head())"
   ]
  },
  {
   "cell_type": "code",
   "execution_count": 3,
   "id": "56f9b96f",
   "metadata": {},
   "outputs": [
    {
     "name": "stdout",
     "output_type": "stream",
     "text": [
      "<class 'pandas.core.frame.DataFrame'>\n",
      "DatetimeIndex: 7306 entries, 2002-01-01 to 2022-01-01\n",
      "Data columns (total 5 columns):\n",
      " #   Column   Non-Null Count  Dtype  \n",
      "---  ------   --------------  -----  \n",
      " 0   STATION  7306 non-null   object \n",
      " 1   NAME     7306 non-null   object \n",
      " 2   SNOW     7306 non-null   float64\n",
      " 3   SNWD     5997 non-null   float64\n",
      " 4   TAVG     4502 non-null   float64\n",
      "dtypes: float64(3), object(2)\n",
      "memory usage: 342.5+ KB\n",
      "None\n"
     ]
    }
   ],
   "source": [
    "# Verifying the details of the dataset (data types, etc.)\n",
    "print(snow.info())"
   ]
  },
  {
   "cell_type": "code",
   "execution_count": 4,
   "id": "37eb346a",
   "metadata": {},
   "outputs": [
    {
     "data": {
      "text/plain": [
       "STATION    0.000000\n",
       "NAME       0.000000\n",
       "SNOW       0.000000\n",
       "SNWD       0.179168\n",
       "TAVG       0.383794\n",
       "dtype: float64"
      ]
     },
     "execution_count": 4,
     "metadata": {},
     "output_type": "execute_result"
    }
   ],
   "source": [
    "# Looking for null values by percent in each column\n",
    "snow.apply(pd.isnull).sum() / snow.shape[0]"
   ]
  },
  {
   "cell_type": "code",
   "execution_count": 5,
   "id": "67411bb4",
   "metadata": {},
   "outputs": [
    {
     "data": {
      "text/html": [
       "<div>\n",
       "<style scoped>\n",
       "    .dataframe tbody tr th:only-of-type {\n",
       "        vertical-align: middle;\n",
       "    }\n",
       "\n",
       "    .dataframe tbody tr th {\n",
       "        vertical-align: top;\n",
       "    }\n",
       "\n",
       "    .dataframe thead th {\n",
       "        text-align: right;\n",
       "    }\n",
       "</style>\n",
       "<table border=\"1\" class=\"dataframe\">\n",
       "  <thead>\n",
       "    <tr style=\"text-align: right;\">\n",
       "      <th></th>\n",
       "      <th>STATION</th>\n",
       "      <th>NAME</th>\n",
       "      <th>SNOW</th>\n",
       "      <th>SNWD</th>\n",
       "      <th>TAVG</th>\n",
       "    </tr>\n",
       "    <tr>\n",
       "      <th>DATE</th>\n",
       "      <th></th>\n",
       "      <th></th>\n",
       "      <th></th>\n",
       "      <th></th>\n",
       "      <th></th>\n",
       "    </tr>\n",
       "  </thead>\n",
       "  <tbody>\n",
       "    <tr>\n",
       "      <th>2002-01-01</th>\n",
       "      <td>USW00003927</td>\n",
       "      <td>DAL FTW WSCMO AIRPORT, TX US</td>\n",
       "      <td>0.0</td>\n",
       "      <td>NaN</td>\n",
       "      <td>37.0</td>\n",
       "    </tr>\n",
       "    <tr>\n",
       "      <th>2002-01-02</th>\n",
       "      <td>USW00003927</td>\n",
       "      <td>DAL FTW WSCMO AIRPORT, TX US</td>\n",
       "      <td>0.0</td>\n",
       "      <td>NaN</td>\n",
       "      <td>28.0</td>\n",
       "    </tr>\n",
       "    <tr>\n",
       "      <th>2002-01-03</th>\n",
       "      <td>USW00003927</td>\n",
       "      <td>DAL FTW WSCMO AIRPORT, TX US</td>\n",
       "      <td>0.0</td>\n",
       "      <td>NaN</td>\n",
       "      <td>27.0</td>\n",
       "    </tr>\n",
       "    <tr>\n",
       "      <th>2002-01-04</th>\n",
       "      <td>USW00003927</td>\n",
       "      <td>DAL FTW WSCMO AIRPORT, TX US</td>\n",
       "      <td>0.0</td>\n",
       "      <td>NaN</td>\n",
       "      <td>38.0</td>\n",
       "    </tr>\n",
       "    <tr>\n",
       "      <th>2002-01-05</th>\n",
       "      <td>USW00003927</td>\n",
       "      <td>DAL FTW WSCMO AIRPORT, TX US</td>\n",
       "      <td>0.0</td>\n",
       "      <td>NaN</td>\n",
       "      <td>43.0</td>\n",
       "    </tr>\n",
       "    <tr>\n",
       "      <th>...</th>\n",
       "      <td>...</td>\n",
       "      <td>...</td>\n",
       "      <td>...</td>\n",
       "      <td>...</td>\n",
       "      <td>...</td>\n",
       "    </tr>\n",
       "    <tr>\n",
       "      <th>2005-11-26</th>\n",
       "      <td>USW00003927</td>\n",
       "      <td>DAL FTW WSCMO AIRPORT, TX US</td>\n",
       "      <td>0.0</td>\n",
       "      <td>NaN</td>\n",
       "      <td>NaN</td>\n",
       "    </tr>\n",
       "    <tr>\n",
       "      <th>2005-11-27</th>\n",
       "      <td>USW00003927</td>\n",
       "      <td>DAL FTW WSCMO AIRPORT, TX US</td>\n",
       "      <td>0.0</td>\n",
       "      <td>NaN</td>\n",
       "      <td>NaN</td>\n",
       "    </tr>\n",
       "    <tr>\n",
       "      <th>2005-11-28</th>\n",
       "      <td>USW00003927</td>\n",
       "      <td>DAL FTW WSCMO AIRPORT, TX US</td>\n",
       "      <td>0.0</td>\n",
       "      <td>NaN</td>\n",
       "      <td>NaN</td>\n",
       "    </tr>\n",
       "    <tr>\n",
       "      <th>2005-11-29</th>\n",
       "      <td>USW00003927</td>\n",
       "      <td>DAL FTW WSCMO AIRPORT, TX US</td>\n",
       "      <td>0.0</td>\n",
       "      <td>NaN</td>\n",
       "      <td>NaN</td>\n",
       "    </tr>\n",
       "    <tr>\n",
       "      <th>2005-11-30</th>\n",
       "      <td>USW00003927</td>\n",
       "      <td>DAL FTW WSCMO AIRPORT, TX US</td>\n",
       "      <td>0.0</td>\n",
       "      <td>NaN</td>\n",
       "      <td>NaN</td>\n",
       "    </tr>\n",
       "  </tbody>\n",
       "</table>\n",
       "<p>1309 rows × 5 columns</p>\n",
       "</div>"
      ],
      "text/plain": [
       "                STATION                          NAME  SNOW  SNWD  TAVG\n",
       "DATE                                                                   \n",
       "2002-01-01  USW00003927  DAL FTW WSCMO AIRPORT, TX US   0.0   NaN  37.0\n",
       "2002-01-02  USW00003927  DAL FTW WSCMO AIRPORT, TX US   0.0   NaN  28.0\n",
       "2002-01-03  USW00003927  DAL FTW WSCMO AIRPORT, TX US   0.0   NaN  27.0\n",
       "2002-01-04  USW00003927  DAL FTW WSCMO AIRPORT, TX US   0.0   NaN  38.0\n",
       "2002-01-05  USW00003927  DAL FTW WSCMO AIRPORT, TX US   0.0   NaN  43.0\n",
       "...                 ...                           ...   ...   ...   ...\n",
       "2005-11-26  USW00003927  DAL FTW WSCMO AIRPORT, TX US   0.0   NaN   NaN\n",
       "2005-11-27  USW00003927  DAL FTW WSCMO AIRPORT, TX US   0.0   NaN   NaN\n",
       "2005-11-28  USW00003927  DAL FTW WSCMO AIRPORT, TX US   0.0   NaN   NaN\n",
       "2005-11-29  USW00003927  DAL FTW WSCMO AIRPORT, TX US   0.0   NaN   NaN\n",
       "2005-11-30  USW00003927  DAL FTW WSCMO AIRPORT, TX US   0.0   NaN   NaN\n",
       "\n",
       "[1309 rows x 5 columns]"
      ]
     },
     "execution_count": 5,
     "metadata": {},
     "output_type": "execute_result"
    }
   ],
   "source": [
    "# Checking for null values in Snow Depth (SNWD) and Temp Average (TAVG) columns\n",
    "snow[pd.isnull(snow[\"SNWD\"])]"
   ]
  },
  {
   "cell_type": "code",
   "execution_count": 6,
   "id": "cb004bdc",
   "metadata": {},
   "outputs": [],
   "source": [
    "# Replacing null values in Snow Depth column with 0\n",
    "snow[\"SNWD\"] = snow[\"SNWD\"].fillna(0.0)"
   ]
  },
  {
   "cell_type": "code",
   "execution_count": 7,
   "id": "478aa6df",
   "metadata": {},
   "outputs": [
    {
     "data": {
      "text/html": [
       "<div>\n",
       "<style scoped>\n",
       "    .dataframe tbody tr th:only-of-type {\n",
       "        vertical-align: middle;\n",
       "    }\n",
       "\n",
       "    .dataframe tbody tr th {\n",
       "        vertical-align: top;\n",
       "    }\n",
       "\n",
       "    .dataframe thead th {\n",
       "        text-align: right;\n",
       "    }\n",
       "</style>\n",
       "<table border=\"1\" class=\"dataframe\">\n",
       "  <thead>\n",
       "    <tr style=\"text-align: right;\">\n",
       "      <th></th>\n",
       "      <th>STATION</th>\n",
       "      <th>NAME</th>\n",
       "      <th>SNOW</th>\n",
       "      <th>SNWD</th>\n",
       "      <th>TAVG</th>\n",
       "    </tr>\n",
       "    <tr>\n",
       "      <th>DATE</th>\n",
       "      <th></th>\n",
       "      <th></th>\n",
       "      <th></th>\n",
       "      <th></th>\n",
       "      <th></th>\n",
       "    </tr>\n",
       "  </thead>\n",
       "  <tbody>\n",
       "  </tbody>\n",
       "</table>\n",
       "</div>"
      ],
      "text/plain": [
       "Empty DataFrame\n",
       "Columns: [STATION, NAME, SNOW, SNWD, TAVG]\n",
       "Index: []"
      ]
     },
     "execution_count": 7,
     "metadata": {},
     "output_type": "execute_result"
    }
   ],
   "source": [
    "# Making sure we have no more null values in Snow Depth column\n",
    "snow[pd.isnull(snow[\"SNWD\"])]"
   ]
  },
  {
   "cell_type": "code",
   "execution_count": 8,
   "id": "10aabbfc",
   "metadata": {},
   "outputs": [],
   "source": [
    "# Using Pandas \"foward fill\" feature take fill Temp Average with last non-null value\n",
    "snow = snow.fillna(method=\"ffill\")"
   ]
  },
  {
   "cell_type": "code",
   "execution_count": 9,
   "id": "87a657b9",
   "metadata": {},
   "outputs": [
    {
     "data": {
      "text/html": [
       "<div>\n",
       "<style scoped>\n",
       "    .dataframe tbody tr th:only-of-type {\n",
       "        vertical-align: middle;\n",
       "    }\n",
       "\n",
       "    .dataframe tbody tr th {\n",
       "        vertical-align: top;\n",
       "    }\n",
       "\n",
       "    .dataframe thead th {\n",
       "        text-align: right;\n",
       "    }\n",
       "</style>\n",
       "<table border=\"1\" class=\"dataframe\">\n",
       "  <thead>\n",
       "    <tr style=\"text-align: right;\">\n",
       "      <th></th>\n",
       "      <th>STATION</th>\n",
       "      <th>NAME</th>\n",
       "      <th>SNOW</th>\n",
       "      <th>SNWD</th>\n",
       "      <th>TAVG</th>\n",
       "    </tr>\n",
       "    <tr>\n",
       "      <th>DATE</th>\n",
       "      <th></th>\n",
       "      <th></th>\n",
       "      <th></th>\n",
       "      <th></th>\n",
       "      <th></th>\n",
       "    </tr>\n",
       "  </thead>\n",
       "  <tbody>\n",
       "  </tbody>\n",
       "</table>\n",
       "</div>"
      ],
      "text/plain": [
       "Empty DataFrame\n",
       "Columns: [STATION, NAME, SNOW, SNWD, TAVG]\n",
       "Index: []"
      ]
     },
     "execution_count": 9,
     "metadata": {},
     "output_type": "execute_result"
    }
   ],
   "source": [
    "# Making sure we have no more null values in Temp Average column\n",
    "snow[pd.isnull(snow[\"TAVG\"])]"
   ]
  },
  {
   "cell_type": "code",
   "execution_count": 10,
   "id": "0455d15c",
   "metadata": {},
   "outputs": [],
   "source": [
    "# Deleting non-numeric columns to keep the data clean\n",
    "del snow[\"STATION\"]\n",
    "del snow[\"NAME\"]"
   ]
  },
  {
   "cell_type": "code",
   "execution_count": 11,
   "id": "275c337b",
   "metadata": {},
   "outputs": [
    {
     "name": "stdout",
     "output_type": "stream",
     "text": [
      "<class 'pandas.core.frame.DataFrame'>\n",
      "DatetimeIndex: 7306 entries, 2002-01-01 to 2022-01-01\n",
      "Data columns (total 3 columns):\n",
      " #   Column  Non-Null Count  Dtype  \n",
      "---  ------  --------------  -----  \n",
      " 0   SNOW    7306 non-null   float64\n",
      " 1   SNWD    7306 non-null   float64\n",
      " 2   TAVG    7306 non-null   float64\n",
      "dtypes: float64(3)\n",
      "memory usage: 228.3 KB\n",
      "None\n"
     ]
    }
   ],
   "source": [
    "# Checking to see the updated number of rows in dataset\n",
    "print(snow.info())"
   ]
  },
  {
   "cell_type": "code",
   "execution_count": 12,
   "id": "fd2cad48",
   "metadata": {},
   "outputs": [
    {
     "data": {
      "text/plain": [
       "<AxesSubplot:xlabel='DATE'>"
      ]
     },
     "execution_count": 12,
     "metadata": {},
     "output_type": "execute_result"
    },
    {
     "data": {
      "image/png": "[encoded data removed]",
      "text/plain": [
       "<Figure size 432x288 with 1 Axes>"
      ]
     },
     "metadata": {
      "needs_background": "light"
     },
     "output_type": "display_data"
    }
   ],
   "source": [
    "# Plotting the snow values with snow depth\n",
    "snow[[\"SNOW\", \"SNWD\"]].plot()"
   ]
  },
  {
   "cell_type": "code",
   "execution_count": 13,
   "id": "300de53b",
   "metadata": {},
   "outputs": [
    {
     "data": {
      "text/plain": [
       "<AxesSubplot:xlabel='DATE'>"
      ]
     },
     "execution_count": 13,
     "metadata": {},
     "output_type": "execute_result"
    },
    {
     "data": {
      "image/png": "[encoded data removed]",
      "text/plain": [
       "<Figure size 432x288 with 1 Axes>"
      ]
     },
     "metadata": {
      "needs_background": "light"
     },
     "output_type": "display_data"
    }
   ],
   "source": [
    "# Plotting the temp average values to see correlation with snowfall\n",
    "snow[\"TAVG\"].plot()"
   ]
  },
  {
   "cell_type": "code",
   "execution_count": 14,
   "id": "d570507b",
   "metadata": {},
   "outputs": [
    {
     "data": {
      "text/plain": [
       "DATE\n",
       "2002     3.8\n",
       "2003     3.2\n",
       "2004     2.9\n",
       "2005     0.0\n",
       "2006     0.0\n",
       "2007     0.3\n",
       "2008     2.1\n",
       "2009     3.4\n",
       "2010    13.9\n",
       "2011     4.3\n",
       "2012     0.8\n",
       "2013     2.4\n",
       "2014     0.8\n",
       "2015     5.8\n",
       "2016     0.0\n",
       "2017     0.1\n",
       "2018     0.0\n",
       "2019     0.0\n",
       "2020     0.2\n",
       "2021     5.0\n",
       "2022     0.0\n",
       "Name: SNOW, dtype: float64"
      ]
     },
     "execution_count": 14,
     "metadata": {},
     "output_type": "execute_result"
    }
   ],
   "source": [
    "# Pulling the amount of snowfall by year\n",
    "snow.groupby(snow.index.year).sum()[\"SNOW\"]"
   ]
  },
  {
   "cell_type": "code",
   "execution_count": 15,
   "id": "c38b761a",
   "metadata": {},
   "outputs": [],
   "source": [
    "# Adding a prediction column for snowfall, 1 day in the future\n",
    "# Using the 'shift' function to move all data back by 1 row\n",
    "snow[\"PREDICTION\"] = snow.shift(-1)[\"SNOW\"]"
   ]
  },
  {
   "cell_type": "code",
   "execution_count": 16,
   "id": "55e0ce50",
   "metadata": {},
   "outputs": [],
   "source": [
    "# Copying all rows expect last one with null value in \"Prediction\" column\n",
    "snow = snow.iloc[:-1,:].copy()"
   ]
  },
  {
   "cell_type": "code",
   "execution_count": 17,
   "id": "81daf24d",
   "metadata": {},
   "outputs": [
    {
     "data": {
      "text/html": [
       "<div>\n",
       "<style scoped>\n",
       "    .dataframe tbody tr th:only-of-type {\n",
       "        vertical-align: middle;\n",
       "    }\n",
       "\n",
       "    .dataframe tbody tr th {\n",
       "        vertical-align: top;\n",
       "    }\n",
       "\n",
       "    .dataframe thead th {\n",
       "        text-align: right;\n",
       "    }\n",
       "</style>\n",
       "<table border=\"1\" class=\"dataframe\">\n",
       "  <thead>\n",
       "    <tr style=\"text-align: right;\">\n",
       "      <th></th>\n",
       "      <th>SNOW</th>\n",
       "      <th>SNWD</th>\n",
       "      <th>TAVG</th>\n",
       "      <th>PREDICTION</th>\n",
       "    </tr>\n",
       "  </thead>\n",
       "  <tbody>\n",
       "    <tr>\n",
       "      <th>count</th>\n",
       "      <td>7305.000000</td>\n",
       "      <td>7305.000000</td>\n",
       "      <td>7305.000000</td>\n",
       "      <td>7305.000000</td>\n",
       "    </tr>\n",
       "    <tr>\n",
       "      <th>mean</th>\n",
       "      <td>0.006708</td>\n",
       "      <td>0.009938</td>\n",
       "      <td>73.699658</td>\n",
       "      <td>0.006708</td>\n",
       "    </tr>\n",
       "    <tr>\n",
       "      <th>std</th>\n",
       "      <td>0.167610</td>\n",
       "      <td>0.196512</td>\n",
       "      <td>14.807791</td>\n",
       "      <td>0.167610</td>\n",
       "    </tr>\n",
       "    <tr>\n",
       "      <th>min</th>\n",
       "      <td>0.000000</td>\n",
       "      <td>0.000000</td>\n",
       "      <td>8.000000</td>\n",
       "      <td>0.000000</td>\n",
       "    </tr>\n",
       "    <tr>\n",
       "      <th>25%</th>\n",
       "      <td>0.000000</td>\n",
       "      <td>0.000000</td>\n",
       "      <td>64.000000</td>\n",
       "      <td>0.000000</td>\n",
       "    </tr>\n",
       "    <tr>\n",
       "      <th>50%</th>\n",
       "      <td>0.000000</td>\n",
       "      <td>0.000000</td>\n",
       "      <td>83.000000</td>\n",
       "      <td>0.000000</td>\n",
       "    </tr>\n",
       "    <tr>\n",
       "      <th>75%</th>\n",
       "      <td>0.000000</td>\n",
       "      <td>0.000000</td>\n",
       "      <td>84.000000</td>\n",
       "      <td>0.000000</td>\n",
       "    </tr>\n",
       "    <tr>\n",
       "      <th>max</th>\n",
       "      <td>11.200000</td>\n",
       "      <td>11.000000</td>\n",
       "      <td>96.000000</td>\n",
       "      <td>11.200000</td>\n",
       "    </tr>\n",
       "  </tbody>\n",
       "</table>\n",
       "</div>"
      ],
      "text/plain": [
       "              SNOW         SNWD         TAVG   PREDICTION\n",
       "count  7305.000000  7305.000000  7305.000000  7305.000000\n",
       "mean      0.006708     0.009938    73.699658     0.006708\n",
       "std       0.167610     0.196512    14.807791     0.167610\n",
       "min       0.000000     0.000000     8.000000     0.000000\n",
       "25%       0.000000     0.000000    64.000000     0.000000\n",
       "50%       0.000000     0.000000    83.000000     0.000000\n",
       "75%       0.000000     0.000000    84.000000     0.000000\n",
       "max      11.200000    11.000000    96.000000    11.200000"
      ]
     },
     "execution_count": 17,
     "metadata": {},
     "output_type": "execute_result"
    }
   ],
   "source": [
    "snow.describe()"
   ]
  },
  {
   "cell_type": "code",
   "execution_count": 18,
   "id": "c5bc85f0",
   "metadata": {},
   "outputs": [
    {
     "data": {
      "text/plain": [
       "<seaborn.axisgrid.PairGrid at 0x7fd4748076d0>"
      ]
     },
     "execution_count": 18,
     "metadata": {},
     "output_type": "execute_result"
    },
    {
     "data": {
      "image/png": "[encoded data removed]",
      "text/plain": [
       "<Figure size 720x720 with 20 Axes>"
      ]
     },
     "metadata": {
      "needs_background": "light"
     },
     "output_type": "display_data"
    }
   ],
   "source": [
    "sns.pairplot(snow)"
   ]
  },
  {
   "cell_type": "code",
   "execution_count": 19,
   "id": "623c2572",
   "metadata": {},
   "outputs": [
    {
     "data": {
      "text/plain": [
       "<AxesSubplot:xlabel='SNOW', ylabel='TAVG'>"
      ]
     },
     "execution_count": 19,
     "metadata": {},
     "output_type": "execute_result"
    },
    {
     "data": {
      "image/png": "[encoded data removed]",
      "text/plain": [
       "<Figure size 432x288 with 1 Axes>"
      ]
     },
     "metadata": {
      "needs_background": "light"
     },
     "output_type": "display_data"
    }
   ],
   "source": [
    "snow.plot(x='SNOW', y='TAVG', kind = 'scatter')"
   ]
  },
  {
   "cell_type": "code",
   "execution_count": 20,
   "id": "317c5313",
   "metadata": {},
   "outputs": [],
   "source": [
    "# Importing the Ridge regression library \n",
    "from sklearn.linear_model import Ridge\n",
    "\n",
    "# Setting up the  L2 penalty for inputs that hinder the prediction\n",
    "reg_model = Ridge(alpha=.1)"
   ]
  },
  {
   "cell_type": "code",
   "execution_count": 21,
   "id": "24dd9863",
   "metadata": {},
   "outputs": [],
   "source": [
    "# Setting up the predictors for next day's weather\n",
    "predictors = [\"SNOW\", \"TAVG\"]"
   ]
  },
  {
   "cell_type": "code",
   "execution_count": 22,
   "id": "d5f72f8b",
   "metadata": {},
   "outputs": [],
   "source": [
    "# Setting up our train and test sets\n",
    "train = snow.loc[:\"2020-12-31\"]\n",
    "test = snow.loc[\"2021-01-01\":]"
   ]
  },
  {
   "cell_type": "code",
   "execution_count": 23,
   "id": "00eb0de1",
   "metadata": {},
   "outputs": [
    {
     "data": {
      "text/plain": [
       "Ridge(alpha=0.1)"
      ]
     },
     "execution_count": 23,
     "metadata": {},
     "output_type": "execute_result"
    }
   ],
   "source": [
    "reg_model.fit(train[predictors], train[\"PREDICTION\"])"
   ]
  },
  {
   "cell_type": "code",
   "execution_count": 24,
   "id": "99219b73",
   "metadata": {},
   "outputs": [],
   "source": [
    "# Calculate predictions based on regression model with test set\n",
    "predictions = reg_model.predict(test[predictors])"
   ]
  },
  {
   "cell_type": "code",
   "execution_count": 25,
   "id": "b4b5919c",
   "metadata": {},
   "outputs": [
    {
     "data": {
      "text/plain": [
       "0.02187426057605117"
      ]
     },
     "execution_count": 25,
     "metadata": {},
     "output_type": "execute_result"
    }
   ],
   "source": [
    "# Importing the mean_absolute_error library to evaluate predictions\n",
    "from sklearn.metrics import mean_absolute_error\n",
    "mean_absolute_error(test[\"PREDICTION\"], predictions)"
   ]
  },
  {
   "cell_type": "code",
   "execution_count": 26,
   "id": "cc769935",
   "metadata": {},
   "outputs": [
    {
     "name": "stdout",
     "output_type": "stream",
     "text": [
      "            ACTUAL  PREDICTION\n",
      "DATE                          \n",
      "2021-01-01     0.0    0.013170\n",
      "2021-01-02     0.0    0.012168\n",
      "2021-01-03     0.0    0.011166\n",
      "2021-01-04     0.0    0.010565\n",
      "2021-01-05     0.0    0.010565\n",
      "...            ...         ...\n",
      "2021-12-27     0.0    0.006558\n",
      "2021-12-28     0.0    0.006157\n",
      "2021-12-29     0.0    0.007560\n",
      "2021-12-30     0.0    0.008161\n",
      "2021-12-31     0.0    0.008161\n",
      "\n",
      "[365 rows x 2 columns]\n"
     ]
    }
   ],
   "source": [
    "# Looking at the results based on actual snowfall vs predicted snowfall\n",
    "results = pd.concat([test[\"PREDICTION\"], pd.Series(predictions, index=test.index)], axis=1)\n",
    "results.columns = [\"ACTUAL\", \"PREDICTION\"]\n",
    "print(results)"
   ]
  },
  {
   "cell_type": "code",
   "execution_count": 27,
   "id": "49205321",
   "metadata": {},
   "outputs": [
    {
     "data": {
      "text/plain": [
       "<AxesSubplot:xlabel='DATE'>"
      ]
     },
     "execution_count": 27,
     "metadata": {},
     "output_type": "execute_result"
    },
    {
     "data": {
      "image/png": "[encoded data removed]",
      "text/plain": [
       "<Figure size 432x288 with 1 Axes>"
      ]
     },
     "metadata": {
      "needs_background": "light"
     },
     "output_type": "display_data"
    }
   ],
   "source": [
    "results.plot()"
   ]
  },
  {
   "cell_type": "code",
   "execution_count": 28,
   "id": "c98957a5",
   "metadata": {},
   "outputs": [
    {
     "data": {
      "text/html": [
       "<div>\n",
       "<style scoped>\n",
       "    .dataframe tbody tr th:only-of-type {\n",
       "        vertical-align: middle;\n",
       "    }\n",
       "\n",
       "    .dataframe tbody tr th {\n",
       "        vertical-align: top;\n",
       "    }\n",
       "\n",
       "    .dataframe thead th {\n",
       "        text-align: right;\n",
       "    }\n",
       "</style>\n",
       "<table border=\"1\" class=\"dataframe\">\n",
       "  <thead>\n",
       "    <tr style=\"text-align: right;\">\n",
       "      <th></th>\n",
       "      <th>ACTUAL</th>\n",
       "      <th>PREDICTION</th>\n",
       "      <th>DIFFERENCE</th>\n",
       "    </tr>\n",
       "    <tr>\n",
       "      <th>DATE</th>\n",
       "      <th></th>\n",
       "      <th></th>\n",
       "      <th></th>\n",
       "    </tr>\n",
       "  </thead>\n",
       "  <tbody>\n",
       "    <tr>\n",
       "      <th>2021-02-13</th>\n",
       "      <td>4.0</td>\n",
       "      <td>0.015774</td>\n",
       "      <td>3.984226</td>\n",
       "    </tr>\n",
       "    <tr>\n",
       "      <th>2021-02-16</th>\n",
       "      <td>1.0</td>\n",
       "      <td>0.018980</td>\n",
       "      <td>0.981020</td>\n",
       "    </tr>\n",
       "    <tr>\n",
       "      <th>2021-08-29</th>\n",
       "      <td>0.0</td>\n",
       "      <td>0.004154</td>\n",
       "      <td>0.004154</td>\n",
       "    </tr>\n",
       "    <tr>\n",
       "      <th>2021-09-07</th>\n",
       "      <td>0.0</td>\n",
       "      <td>0.004154</td>\n",
       "      <td>0.004154</td>\n",
       "    </tr>\n",
       "    <tr>\n",
       "      <th>2021-09-06</th>\n",
       "      <td>0.0</td>\n",
       "      <td>0.003753</td>\n",
       "      <td>0.003753</td>\n",
       "    </tr>\n",
       "    <tr>\n",
       "      <th>2021-09-05</th>\n",
       "      <td>0.0</td>\n",
       "      <td>0.003352</td>\n",
       "      <td>0.003352</td>\n",
       "    </tr>\n",
       "    <tr>\n",
       "      <th>2021-09-04</th>\n",
       "      <td>0.0</td>\n",
       "      <td>0.003152</td>\n",
       "      <td>0.003152</td>\n",
       "    </tr>\n",
       "    <tr>\n",
       "      <th>2021-09-03</th>\n",
       "      <td>0.0</td>\n",
       "      <td>0.003152</td>\n",
       "      <td>0.003152</td>\n",
       "    </tr>\n",
       "    <tr>\n",
       "      <th>2021-09-02</th>\n",
       "      <td>0.0</td>\n",
       "      <td>0.002951</td>\n",
       "      <td>0.002951</td>\n",
       "    </tr>\n",
       "    <tr>\n",
       "      <th>2021-09-01</th>\n",
       "      <td>0.0</td>\n",
       "      <td>0.002751</td>\n",
       "      <td>0.002751</td>\n",
       "    </tr>\n",
       "    <tr>\n",
       "      <th>2021-08-31</th>\n",
       "      <td>0.0</td>\n",
       "      <td>0.002951</td>\n",
       "      <td>0.002951</td>\n",
       "    </tr>\n",
       "    <tr>\n",
       "      <th>2021-08-30</th>\n",
       "      <td>0.0</td>\n",
       "      <td>0.003552</td>\n",
       "      <td>0.003552</td>\n",
       "    </tr>\n",
       "    <tr>\n",
       "      <th>2021-08-28</th>\n",
       "      <td>0.0</td>\n",
       "      <td>0.003552</td>\n",
       "      <td>0.003552</td>\n",
       "    </tr>\n",
       "    <tr>\n",
       "      <th>2021-08-18</th>\n",
       "      <td>0.0</td>\n",
       "      <td>0.005556</td>\n",
       "      <td>0.005556</td>\n",
       "    </tr>\n",
       "    <tr>\n",
       "      <th>2021-08-27</th>\n",
       "      <td>0.0</td>\n",
       "      <td>0.003552</td>\n",
       "      <td>0.003552</td>\n",
       "    </tr>\n",
       "    <tr>\n",
       "      <th>2021-08-26</th>\n",
       "      <td>0.0</td>\n",
       "      <td>0.002751</td>\n",
       "      <td>0.002751</td>\n",
       "    </tr>\n",
       "    <tr>\n",
       "      <th>2021-08-25</th>\n",
       "      <td>0.0</td>\n",
       "      <td>0.003152</td>\n",
       "      <td>0.003152</td>\n",
       "    </tr>\n",
       "    <tr>\n",
       "      <th>2021-08-24</th>\n",
       "      <td>0.0</td>\n",
       "      <td>0.003152</td>\n",
       "      <td>0.003152</td>\n",
       "    </tr>\n",
       "    <tr>\n",
       "      <th>2021-08-23</th>\n",
       "      <td>0.0</td>\n",
       "      <td>0.003152</td>\n",
       "      <td>0.003152</td>\n",
       "    </tr>\n",
       "    <tr>\n",
       "      <th>2021-08-22</th>\n",
       "      <td>0.0</td>\n",
       "      <td>0.003152</td>\n",
       "      <td>0.003152</td>\n",
       "    </tr>\n",
       "    <tr>\n",
       "      <th>2021-08-21</th>\n",
       "      <td>0.0</td>\n",
       "      <td>0.003152</td>\n",
       "      <td>0.003152</td>\n",
       "    </tr>\n",
       "    <tr>\n",
       "      <th>2021-08-20</th>\n",
       "      <td>0.0</td>\n",
       "      <td>0.003152</td>\n",
       "      <td>0.003152</td>\n",
       "    </tr>\n",
       "    <tr>\n",
       "      <th>2021-09-08</th>\n",
       "      <td>0.0</td>\n",
       "      <td>0.004154</td>\n",
       "      <td>0.004154</td>\n",
       "    </tr>\n",
       "    <tr>\n",
       "      <th>2021-09-09</th>\n",
       "      <td>0.0</td>\n",
       "      <td>0.004554</td>\n",
       "      <td>0.004554</td>\n",
       "    </tr>\n",
       "    <tr>\n",
       "      <th>2021-09-10</th>\n",
       "      <td>0.0</td>\n",
       "      <td>0.004554</td>\n",
       "      <td>0.004554</td>\n",
       "    </tr>\n",
       "  </tbody>\n",
       "</table>\n",
       "</div>"
      ],
      "text/plain": [
       "            ACTUAL  PREDICTION  DIFFERENCE\n",
       "DATE                                      \n",
       "2021-02-13     4.0    0.015774    3.984226\n",
       "2021-02-16     1.0    0.018980    0.981020\n",
       "2021-08-29     0.0    0.004154    0.004154\n",
       "2021-09-07     0.0    0.004154    0.004154\n",
       "2021-09-06     0.0    0.003753    0.003753\n",
       "2021-09-05     0.0    0.003352    0.003352\n",
       "2021-09-04     0.0    0.003152    0.003152\n",
       "2021-09-03     0.0    0.003152    0.003152\n",
       "2021-09-02     0.0    0.002951    0.002951\n",
       "2021-09-01     0.0    0.002751    0.002751\n",
       "2021-08-31     0.0    0.002951    0.002951\n",
       "2021-08-30     0.0    0.003552    0.003552\n",
       "2021-08-28     0.0    0.003552    0.003552\n",
       "2021-08-18     0.0    0.005556    0.005556\n",
       "2021-08-27     0.0    0.003552    0.003552\n",
       "2021-08-26     0.0    0.002751    0.002751\n",
       "2021-08-25     0.0    0.003152    0.003152\n",
       "2021-08-24     0.0    0.003152    0.003152\n",
       "2021-08-23     0.0    0.003152    0.003152\n",
       "2021-08-22     0.0    0.003152    0.003152\n",
       "2021-08-21     0.0    0.003152    0.003152\n",
       "2021-08-20     0.0    0.003152    0.003152\n",
       "2021-09-08     0.0    0.004154    0.004154\n",
       "2021-09-09     0.0    0.004554    0.004554\n",
       "2021-09-10     0.0    0.004554    0.004554"
      ]
     },
     "execution_count": 28,
     "metadata": {},
     "output_type": "execute_result"
    }
   ],
   "source": [
    "# Evaluating the difference between the actual snowfall vs predicted snowfall\n",
    "results[\"DIFFERENCE\"] = (results[\"ACTUAL\"] - results[\"PREDICTION\"]).abs()\n",
    "results.sort_values(\"ACTUAL\", ascending=False).head(25)"
   ]
  }
 ],
 "metadata": {
  "kernelspec": {
   "display_name": "Python 3 (ipykernel)",
   "language": "python",
   "name": "python3"
  },
  "language_info": {
   "codemirror_mode": {
    "name": "ipython",
    "version": 3
   },
   "file_extension": ".py",
   "mimetype": "text/x-python",
   "name": "python",
   "nbconvert_exporter": "python",
   "pygments_lexer": "ipython3",
   "version": "3.9.12"
  }
 },
 "nbformat": 4,
 "nbformat_minor": 5
}
